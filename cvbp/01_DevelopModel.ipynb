{
 "cells": [
  {
   "cell_type": "markdown",
   "metadata": {},
   "source": [
    "# Develop Model\n",
    "In this noteook, we will go through the steps to load the ResNet18 model, pre-process the images to the required format and call the model to find the top predictions.\n",
    "\n",
    "    Note: Always make sure you don't have any lingering notebooks running (Shutdown previous notebooks). Otherwise it may cause GPU memory issue."
   ]
  },
  {
   "cell_type": "code",
   "execution_count": null,
   "metadata": {},
   "outputs": [],
   "source": [
    "import numpy as np\n",
    "from PIL import Image\n",
    "import os\n",
    "import wget\n",
    "import torch\n",
    "from azureml.core.workspace import Workspace\n",
    "from dotenv import set_key, find_dotenv\n",
    "from testing_utilities import get_auth\n",
    "from azureml.core.model import Model\n",
    "from fastai.vision import open_image \n",
    "import torchvision.models as models\n",
    "from utils_cv.common.deployment import generate_yaml\n",
    "from utils_cv.common.data import data_path, root_path \n",
    "from utils_cv.common.image import ims2strlist\n",
    "from utils_cv.classification.model import IMAGENET_IM_SIZE, model_to_learner"
   ]
  },
  {
   "cell_type": "code",
   "execution_count": null,
   "metadata": {},
   "outputs": [],
   "source": [
    "env_path = find_dotenv(raise_error_if_not_found=True)"
   ]
  },
  {
   "cell_type": "markdown",
   "metadata": {},
   "source": [
    "## Create the model"
   ]
  },
  {
   "cell_type": "code",
   "execution_count": null,
   "metadata": {},
   "outputs": [],
   "source": [
    "learn = model_to_learner(models.resnet18(pretrained=True), IMAGENET_IM_SIZE)\n",
    "print(\"model loaded\")"
   ]
  },
  {
   "cell_type": "code",
   "execution_count": null,
   "metadata": {},
   "outputs": [],
   "source": [
    "wget.download(\n",
    "    \"https://upload.wikimedia.org/wikipedia/commons/thumb/6/68/Lynx_lynx_poing.jpg/220px-Lynx_lynx_poing.jpg\"\n",
    ")"
   ]
  },
  {
   "cell_type": "code",
   "execution_count": null,
   "metadata": {},
   "outputs": [],
   "source": [
    "img_path = \"220px-Lynx_lynx_poing.jpg\"\n",
    "pil_img  = Image.open(img_path)\n",
    "print(pil_img.size)\n",
    "pil_img"
   ]
  },
  {
   "cell_type": "markdown",
   "metadata": {},
   "source": [
    "Below, we load the image using the *open_image* function from fastai."
   ]
  },
  {
   "cell_type": "code",
   "execution_count": null,
   "metadata": {},
   "outputs": [],
   "source": [
    "# Evaluate the model using the input data\n",
    "img = open_image(img_path)"
   ]
  },
  {
   "cell_type": "markdown",
   "metadata": {},
   "source": [
    "Now, let's call the model on our image. This will take a few seconds."
   ]
  },
  {
   "cell_type": "code",
   "execution_count": null,
   "metadata": {},
   "outputs": [],
   "source": [
    "%%time\n",
    "pred_class, pred_idx, outputs = learn.predict(img)\n",
    "decoded_predictions = {\"label\": str(pred_class), \"probability\": str(outputs[pred_idx].item())}\n",
    "print(\"Predicted:\", decoded_predictions)"
   ]
  },
  {
   "cell_type": "markdown",
   "metadata": {},
   "source": [
    "## Register the model\n",
    "Register an existing trained model, add descirption and tags."
   ]
  },
  {
   "cell_type": "code",
   "execution_count": null,
   "metadata": {},
   "outputs": [],
   "source": [
    "# Get workspace\n",
    "# Load existing workspace from the config file info.\n",
    "\n",
    "ws = Workspace.from_config(auth=get_auth())\n",
    "print(ws.name, ws.resource_group, ws.location, ws.subscription_id, sep=\"\\n\")"
   ]
  },
  {
   "cell_type": "code",
   "execution_count": null,
   "metadata": {},
   "outputs": [],
   "source": [
    "current_directory = os.getcwd()\n",
    "output_folder = os.path.join(current_directory, 'outputs')\n",
    "MODEL_NAME = 'im_classif_resnet18'  # Name we will give our model both locally and on Azure\n",
    "PICKLED_MODEL_NAME = MODEL_NAME + '.pkl'\n",
    "os.makedirs(output_folder, exist_ok=True)\n",
    "learn.export(os.path.join(output_folder, PICKLED_MODEL_NAME))"
   ]
  },
  {
   "cell_type": "markdown",
   "metadata": {
    "lines_to_next_cell": 2
   },
   "source": [
    "Register the model"
   ]
  },
  {
   "cell_type": "code",
   "execution_count": null,
   "metadata": {},
   "outputs": [],
   "source": [
    "model = Model.register(\n",
    "    model_path=os.path.join(output_folder, PICKLED_MODEL_NAME),  # this points to a local file\n",
    "    model_name=\"resnet_model\",  # this is the name the model is registered as\n",
    "    tags={\"model\": \"dl\", \"framework\": \"resnet\"},\n",
    "    description=\"resnet model\",\n",
    "    workspace=ws,\n",
    ")"
   ]
  },
  {
   "cell_type": "code",
   "execution_count": null,
   "metadata": {},
   "outputs": [],
   "source": [
    "print(model.name, model.description, model.version)"
   ]
  },
  {
   "cell_type": "code",
   "execution_count": null,
   "metadata": {},
   "outputs": [],
   "source": [
    "set_key(env_path, \"model_version\", str(model.version))"
   ]
  },
  {
   "cell_type": "code",
   "execution_count": null,
   "metadata": {},
   "outputs": [],
   "source": [
    "# Clear GPU memory\n",
    "learn.purge()\n",
    "torch.cuda.empty_cache()"
   ]
  },
  {
   "cell_type": "markdown",
   "metadata": {},
   "source": [
    "We have registred the trained ResNet18 model in Azure ML. We can now move on to [developing the model api for our model](02_DevelopModelDriver.ipynb)."
   ]
  }
 ],
 "metadata": {
  "jupytext": {
   "formats": "ipynb"
  },
  "kernelspec": {
   "display_name": "Python 3",
   "language": "python",
   "name": "python3"
  }
 },
 "nbformat": 4,
 "nbformat_minor": 2
}
